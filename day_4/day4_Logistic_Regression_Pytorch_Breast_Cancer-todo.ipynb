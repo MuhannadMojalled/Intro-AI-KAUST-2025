{
  "nbformat": 4,
  "nbformat_minor": 0,
  "metadata": {
    "colab": {
      "provenance": []
    },
    "kernelspec": {
      "name": "python3",
      "display_name": "Python 3"
    },
    "language_info": {
      "name": "python"
    }
  },
  "cells": [
    {
      "cell_type": "code",
      "execution_count": null,
      "metadata": {
        "id": "XfvqXiThG4TR"
      },
      "outputs": [],
      "source": [
        "from IPython.display import clear_output"
      ]
    },
    {
      "cell_type": "code",
      "source": [
        "# Download the required libraries (needed when running outside colab where the environment doesn't come pre-loaded with libraries)\n",
        "\n",
        "%pip install torch\n",
        "%pip install matplotlib\n",
        "%pip install scikit-learn\n",
        "\n",
        "clear_output()"
      ],
      "metadata": {
        "id": "OzVApEVDHmvo"
      },
      "execution_count": null,
      "outputs": []
    },
    {
      "cell_type": "code",
      "source": [
        "import torch\n",
        "import torch.nn as nn\n",
        "from torch.optim import SGD\n",
        "\n",
        "import matplotlib.pyplot as plt\n",
        "\n",
        "from sklearn.datasets import load_breast_cancer\n",
        "from sklearn.model_selection import train_test_split\n",
        "from sklearn.preprocessing import StandardScaler"
      ],
      "metadata": {
        "id": "4kXKPYNAHvf4"
      },
      "execution_count": null,
      "outputs": []
    },
    {
      "cell_type": "markdown",
      "source": [
        "#Contents:\n",
        "\n",
        "1. Implementation of Logistic Regression using Pytorch to make a classifier for Breat Cancer Dataset\n",
        "\n",
        "You need to know:\n",
        "\n",
        "1. **pytorch** (for impelementation)\n",
        "2. a little bit of **matplotlib** (for visualization)"
      ],
      "metadata": {
        "id": "sNWmt7waHxgN"
      }
    },
    {
      "cell_type": "markdown",
      "source": [
        "## Loading Data"
      ],
      "metadata": {
        "id": "bvvtES-vH4xT"
      }
    },
    {
      "cell_type": "code",
      "source": [
        "data = load_breast_cancer()"
      ],
      "metadata": {
        "id": "x8UQXwiZMi99"
      },
      "execution_count": null,
      "outputs": []
    },
    {
      "cell_type": "code",
      "source": [
        "print(data.DESCR)  # description of dataset"
      ],
      "metadata": {
        "id": "KY284oJPMhuu"
      },
      "execution_count": null,
      "outputs": []
    },
    {
      "cell_type": "code",
      "source": [
        "print('feature_names:', data.feature_names)\n",
        "print('-'*20)\n",
        "print('target_names:', data.target_names)"
      ],
      "metadata": {
        "id": "_QRYqbuyMyCv"
      },
      "execution_count": null,
      "outputs": []
    },
    {
      "cell_type": "code",
      "source": [
        "# Load the Breast Cancer dataset\n",
        "\n",
        "X = #To Do\n",
        "y = #To Do\n",
        "\n",
        "# Split the dataset into training and testing sets\n",
        "X_train, X_test, y_train, y_test = #To Do\n",
        "\n",
        "# Standardize the data\n",
        "# Hint: Use StandardScaler() and you can Google it\n",
        "scaler = #To Do\n",
        "X_train = #To Do\n",
        "X_test = #To Do\n",
        "\n",
        "# Hint: use the torch.tensor to convert the data to Tensors\n",
        "X_train = #To Do\n",
        "X_test  = #To Do\n",
        "y_train = #To Do\n",
        "y_test  = #To Do"
      ],
      "metadata": {
        "id": "HkbuX5NeH3Ry"
      },
      "execution_count": null,
      "outputs": []
    },
    {
      "cell_type": "code",
      "source": [
        "#Print the shape for (X, y, X_train, X_test, y_train, y_test)\n",
        "print(f'{X.shape=}')\n",
        "print(f'{y.shape=}')\n",
        "print('-'*10)\n",
        "print(f'{X_train.shape=}')\n",
        "print(f'{X_test.shape=}')\n",
        "print('-'*10)\n",
        "print(f'{y_train.shape=}')\n",
        "print(f'{y_test.shape=}')"
      ],
      "metadata": {
        "id": "ij_j4EI3IhNb"
      },
      "execution_count": null,
      "outputs": []
    },
    {
      "cell_type": "code",
      "source": [
        "# Torch module based model for logistic_regression\n",
        "class LogisticRegression(nn.Module):\n",
        "  def __init__(self, input_dim):\n",
        "    super(LogisticRegression, self).__init__()\n",
        "    #Hint: Create a linear layer that takes the input_dim as input and outputs 1\n",
        "    self.layer = #To Do\n",
        "\n",
        "  def forward(self, x):\n",
        "    y = #To Do\n",
        "    z = #To Do, Hint: Remember that this is a Logistic Regression model (has two classes)\n",
        "    return z"
      ],
      "metadata": {
        "id": "bhuTMDXjIoCf"
      },
      "execution_count": null,
      "outputs": []
    },
    {
      "cell_type": "code",
      "source": [
        "input_dim = #To Do, Hint: Remember the shape of X_train\n",
        "model = #To Do\n",
        "\n",
        "# Define loss function and optimizer\n",
        "criterion = #To Do\n",
        "optimizer = #To Do\n",
        "\n",
        "num_epochs = #To Do"
      ],
      "metadata": {
        "id": "fgiOt9FtJnR9"
      },
      "execution_count": null,
      "outputs": []
    },
    {
      "cell_type": "markdown",
      "source": [
        "## Training the model"
      ],
      "metadata": {
        "id": "Csrbq9EgKGiM"
      }
    },
    {
      "cell_type": "code",
      "source": [
        "train_losses = []\n",
        "\n",
        "for epoch in range(num_epochs):\n",
        "  # Forward pass\n",
        "  outputs = #To Do\n",
        "  loss = #To Do\n",
        "\n",
        "  # Backward pass and optimization // To Do\n",
        "  #Hint: You can go back to yesterdays lab\n",
        "\n",
        "  train_losses.append(loss.item())\n",
        "\n",
        "  if (epoch + 1) % 100 == 0:\n",
        "    print(f'Epoch [{epoch + 1}/{num_epochs}], Loss: {loss.item():.4f}')"
      ],
      "metadata": {
        "id": "tTHX7IE1J40S"
      },
      "execution_count": null,
      "outputs": []
    },
    {
      "cell_type": "code",
      "source": [
        "plt.plot(train_losses)\n",
        "\n",
        "plt.xlabel('epoch')\n",
        "plt.ylabel('loss (BCE)')\n",
        "\n",
        "plt.show()"
      ],
      "metadata": {
        "id": "ixiId9qkL2vL"
      },
      "execution_count": null,
      "outputs": []
    },
    {
      "cell_type": "code",
      "source": [
        "model.eval()\n",
        "with torch.no_grad():\n",
        "\n",
        "  y_pred = #To Do\n",
        "  y_pred = #To Do / Hint: Convert probabilities to binary predictions (0 or 1)\n",
        "\n",
        "  correct = #To DO\n",
        "  accuracy = #To Do\n",
        "\n",
        "  print(f'Accuracy on test set: {100 * accuracy:.2f}%')"
      ],
      "metadata": {
        "id": "j91a-afdJ7SD"
      },
      "execution_count": null,
      "outputs": []
    },
    {
      "cell_type": "code",
      "source": [],
      "metadata": {
        "id": "mNZoLymELplV"
      },
      "execution_count": null,
      "outputs": []
    }
  ]
}